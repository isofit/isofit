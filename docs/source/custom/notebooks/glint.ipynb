{
 "cells": [
  {
   "cell_type": "markdown",
   "id": "b5440264",
   "metadata": {},
   "source": [
    "# Glint"
   ]
  },
  {
   "cell_type": "markdown",
   "id": "6b630f39",
   "metadata": {},
   "source": []
  }
 ],
 "metadata": {
  "language_info": {
   "name": "python"
  }
 },
 "nbformat": 4,
 "nbformat_minor": 5
}
