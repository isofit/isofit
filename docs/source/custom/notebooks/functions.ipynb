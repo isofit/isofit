{
 "cells": [
  {
   "cell_type": "markdown",
   "id": "fe75c48b",
   "metadata": {},
   "source": [
    "# Internal Functions"
   ]
  },
  {
   "cell_type": "markdown",
   "id": "f0f4eaf6",
   "metadata": {},
   "source": [
    "When debugging issues or testing configurations, it may be advantagous to run Isofit in a more controlled manner than the end-to-end Apply OE pipeline. This notebook gives a quick introduction to the structure of Isofit and how it can be used more like a Python package.\n",
    "\n",
    "NOTE: Isofit is actively developed, so while we make sure that Apply OE is stable from a CLI standpoint, individual functions are subject to change."
   ]
  },
  {
   "cell_type": "markdown",
   "id": "eee6abd3",
   "metadata": {},
   "source": [
    "We'll start with the medium example found at `~/.isofit/imagecube/medium`. First, run Apply OE on this example, or for more adept users, run Apply OE with the `--config_only` flag. The objective here, is to generate an Isofit config file at `~/.isofit/imagecube/small/config/ang20170323t202244_isofit.json`. This saves us the trouble of building the configuration file manually. We can edit the Apply OE generated configuration as needed."
   ]
  },
  {
   "cell_type": "code",
   "execution_count": 23,
   "id": "75064908",
   "metadata": {},
   "outputs": [],
   "source": [
    "# Imports\n",
    "from pathlib import Path\n",
    "\n",
    "from matplotlib import pyplot as plt\n",
    "import numpy as np\n",
    "from spectral import envi\n",
    "\n",
    "from isofit.core.common import envi_header\n",
    "from isofit.core.isofit import Isofit\n",
    "from isofit.configs import configs\n",
    "from isofit.core.forward import ForwardModel\n",
    "from isofit.inversion.inverse import Inversion\n",
    "from isofit.core.geometry import Geometry\n",
    "from isofit.core.fileio import IO\n",
    "from isofit.inversion.inverse_simple import (\n",
    "    invert_algebraic,\n",
    "    invert_analytical,\n",
    "    invert_simple,\n",
    ")"
   ]
  },
  {
   "cell_type": "code",
   "execution_count": 7,
   "id": "04d04288",
   "metadata": {},
   "outputs": [],
   "source": [
    "# Load the input data\n",
    "rdn_path = Path('~/.isofit/imagecube/medium/ang20170323t202244_rdn_7k-8k')\n",
    "loc_path = Path('~/.isofit/imagecube/medium/ang20170323t202244_loc_7k-8k')\n",
    "obs_path = Path('~/.isofit/imagecube/medium/ang20170323t202244_obs_7k-8k')\n",
    "\n",
    "rdn = envi.open(envi_header(str(rdn_path.expanduser())))\n",
    "loc = envi.open(envi_header(str(loc_path.expanduser())))\n",
    "obs = envi.open(envi_header(str(obs_path.expanduser())))\n",
    "\n",
    "rdn_im = rdn.open_memmap(interleave='bip')\n",
    "loc_im = loc.open_memmap(interleave='bip')\n",
    "obs_im = obs.open_memmap(interleave='bip')"
   ]
  },
  {
   "cell_type": "markdown",
   "id": "fe59a430",
   "metadata": {},
   "source": [
    "Much of the internal Isofit structure is object-based.\n",
    "\n",
    "The `config` object contains the full Isofit config. This is constructed directly from the config `.json` file:"
   ]
  },
  {
   "cell_type": "code",
   "execution_count": 22,
   "id": "2ac3ee92",
   "metadata": {},
   "outputs": [
    {
     "name": "stdout",
     "output_type": "stream",
     "text": [
      "The config object:\n",
      "<isofit.configs.configs.Config object at 0x109bb97e0>\n",
      "\n",
      "Config attributes:\n",
      "_input_type\n",
      "input\n",
      "_output_type\n",
      "output\n",
      "_forward_model_type\n",
      "forward_model\n",
      "_implementation_type\n",
      "implementation\n",
      "\n",
      "Example:\n",
      "Forward model type: <class 'isofit.configs.sections.forward_model_config.ForwardModelConfig'>\n",
      "Forward model: <isofit.configs.sections.forward_model_config.ForwardModelConfig object at 0x109ed3d90>\n"
     ]
    }
   ],
   "source": [
    "# Initialize the config object\n",
    "config_file = Path('~/.isofit/imagecube/small/config/ang20170323t202244_isofit.json')\n",
    "config =  configs.create_new_config(str(config_file.expanduser()))\n",
    "\n",
    "print('The config object:')\n",
    "print(config)\n",
    "print()\n",
    "\n",
    "print('Config attributes:')\n",
    "[print(key) for key in vars(config).keys()]\n",
    "print()\n",
    "\n",
    "print('Example:')\n",
    "print(f'Forward model type: {config._forward_model_type}')\n",
    "print(f'Forward model: {config.forward_model}')"
   ]
  },
  {
   "cell_type": "code",
   "execution_count": null,
   "id": "daf7e8d6",
   "metadata": {},
   "outputs": [],
   "source": [
    "multi_fm = ForwardModel(config)\n",
    "multi_iv = Inversion(config, multi_fm)"
   ]
  }
 ],
 "metadata": {
  "kernelspec": {
   "display_name": "Python 3",
   "language": "python",
   "name": "python3"
  },
  "language_info": {
   "codemirror_mode": {
    "name": "ipython",
    "version": 3
   },
   "file_extension": ".py",
   "mimetype": "text/x-python",
   "name": "python",
   "nbconvert_exporter": "python",
   "pygments_lexer": "ipython3",
   "version": "3.10.14"
  }
 },
 "nbformat": 4,
 "nbformat_minor": 5
}
