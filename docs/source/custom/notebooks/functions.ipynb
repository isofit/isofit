{
 "cells": [
  {
   "cell_type": "markdown",
   "id": "fe75c48b",
   "metadata": {},
   "source": [
    "# Functions"
   ]
  }
 ],
 "metadata": {
  "language_info": {
   "name": "python"
  }
 },
 "nbformat": 4,
 "nbformat_minor": 5
}
