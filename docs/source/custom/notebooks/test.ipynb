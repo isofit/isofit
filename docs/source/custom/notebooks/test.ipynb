{
 "cells": [
  {
   "cell_type": "markdown",
   "id": "5ec49921",
   "metadata": {},
   "source": [
    "# Title"
   ]
  },
  {
   "cell_type": "code",
   "execution_count": null,
   "id": "2c0fd478",
   "metadata": {},
   "outputs": [],
   "source": [
    "from isofit.core.isofit import Isofit"
   ]
  },
  {
   "cell_type": "code",
   "execution_count": null,
   "id": "2701e477",
   "metadata": {},
   "outputs": [],
   "source": []
  }
 ],
 "metadata": {
  "kernelspec": {
   "display_name": "isofit_env",
   "language": "python",
   "name": "python3"
  },
  "language_info": {
   "name": "python",
   "version": "3.10.14"
  }
 },
 "nbformat": 4,
 "nbformat_minor": 5
}
